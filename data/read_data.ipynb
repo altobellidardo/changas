{
 "cells": [
  {
   "cell_type": "code",
   "execution_count": 9,
   "metadata": {},
   "outputs": [],
   "source": [
    "import pandas as pd\n",
    "import numpy as np\n",
    "import random"
   ]
  },
  {
   "cell_type": "code",
   "execution_count": 4,
   "metadata": {},
   "outputs": [
    {
     "data": {
      "text/html": [
       "<div>\n",
       "<style scoped>\n",
       "    .dataframe tbody tr th:only-of-type {\n",
       "        vertical-align: middle;\n",
       "    }\n",
       "\n",
       "    .dataframe tbody tr th {\n",
       "        vertical-align: top;\n",
       "    }\n",
       "\n",
       "    .dataframe thead th {\n",
       "        text-align: right;\n",
       "    }\n",
       "</style>\n",
       "<table border=\"1\" class=\"dataframe\">\n",
       "  <thead>\n",
       "    <tr style=\"text-align: right;\">\n",
       "      <th></th>\n",
       "      <th>id_user</th>\n",
       "      <th>name</th>\n",
       "      <th>surname</th>\n",
       "      <th>mail</th>\n",
       "      <th>phone</th>\n",
       "      <th>location</th>\n",
       "      <th>dni</th>\n",
       "      <th>birth</th>\n",
       "      <th>picture</th>\n",
       "    </tr>\n",
       "  </thead>\n",
       "  <tbody>\n",
       "    <tr>\n",
       "      <th>0</th>\n",
       "      <td>95y5l96g-fba1-1oz7-0116-giow2865q964</td>\n",
       "      <td>María</td>\n",
       "      <td>Rodríguez</td>\n",
       "      <td>mariarodriguez@gmail.com</td>\n",
       "      <td>5.432112e+11</td>\n",
       "      <td>San Isidro, Buenos Aires, Argentina</td>\n",
       "      <td>37326160</td>\n",
       "      <td>1995-08-20</td>\n",
       "      <td>NaN</td>\n",
       "    </tr>\n",
       "    <tr>\n",
       "      <th>1</th>\n",
       "      <td>nfi7965n-8npy-lckx-949e-aqfn8a16le6l</td>\n",
       "      <td>Carlos</td>\n",
       "      <td>González</td>\n",
       "      <td>carlosgonzalez@gmail.com</td>\n",
       "      <td>5.432113e+11</td>\n",
       "      <td>Tigre, Buenos Aires, Argentina</td>\n",
       "      <td>22471163</td>\n",
       "      <td>1988-05-03</td>\n",
       "      <td>NaN</td>\n",
       "    </tr>\n",
       "    <tr>\n",
       "      <th>2</th>\n",
       "      <td>1ot86im7-19v5-ifj9-415h-gc83j8wm1f79</td>\n",
       "      <td>Ana</td>\n",
       "      <td>López</td>\n",
       "      <td>analopez@gmail.com</td>\n",
       "      <td>5.432115e+11</td>\n",
       "      <td>Pilar, Buenos Aires, Argentina</td>\n",
       "      <td>40047796</td>\n",
       "      <td>2000-02-15</td>\n",
       "      <td>NaN</td>\n",
       "    </tr>\n",
       "    <tr>\n",
       "      <th>3</th>\n",
       "      <td>8967q56j-q1fj-sqc8-7za1-qzuvi4kt4964</td>\n",
       "      <td>Lucía</td>\n",
       "      <td>Martínez</td>\n",
       "      <td>luciamartinez@gmail.com</td>\n",
       "      <td>5.432116e+11</td>\n",
       "      <td>Escobar, Buenos Aires, Argentina</td>\n",
       "      <td>40208734</td>\n",
       "      <td>1990-11-25</td>\n",
       "      <td>NaN</td>\n",
       "    </tr>\n",
       "    <tr>\n",
       "      <th>4</th>\n",
       "      <td>07me52f8-k054-9rfp-60c0-j9ula126161j</td>\n",
       "      <td>Pedro</td>\n",
       "      <td>Fernández</td>\n",
       "      <td>pedrofernandez@gmail.com</td>\n",
       "      <td>5.432117e+11</td>\n",
       "      <td>San Fernando, Buenos Aires, Argentina</td>\n",
       "      <td>28158580</td>\n",
       "      <td>1992-09-10</td>\n",
       "      <td>NaN</td>\n",
       "    </tr>\n",
       "  </tbody>\n",
       "</table>\n",
       "</div>"
      ],
      "text/plain": [
       "                                id_user    name    surname  \\\n",
       "0  95y5l96g-fba1-1oz7-0116-giow2865q964   María  Rodríguez   \n",
       "1  nfi7965n-8npy-lckx-949e-aqfn8a16le6l  Carlos   González   \n",
       "2  1ot86im7-19v5-ifj9-415h-gc83j8wm1f79     Ana      López   \n",
       "3  8967q56j-q1fj-sqc8-7za1-qzuvi4kt4964   Lucía   Martínez   \n",
       "4  07me52f8-k054-9rfp-60c0-j9ula126161j   Pedro  Fernández   \n",
       "\n",
       "                       mail         phone  \\\n",
       "0  mariarodriguez@gmail.com  5.432112e+11   \n",
       "1  carlosgonzalez@gmail.com  5.432113e+11   \n",
       "2        analopez@gmail.com  5.432115e+11   \n",
       "3   luciamartinez@gmail.com  5.432116e+11   \n",
       "4  pedrofernandez@gmail.com  5.432117e+11   \n",
       "\n",
       "                                location       dni       birth  picture  \n",
       "0    San Isidro, Buenos Aires, Argentina  37326160  1995-08-20      NaN  \n",
       "1         Tigre, Buenos Aires, Argentina  22471163  1988-05-03      NaN  \n",
       "2         Pilar, Buenos Aires, Argentina  40047796  2000-02-15      NaN  \n",
       "3       Escobar, Buenos Aires, Argentina  40208734  1990-11-25      NaN  \n",
       "4  San Fernando, Buenos Aires, Argentina  28158580  1992-09-10      NaN  "
      ]
     },
     "execution_count": 4,
     "metadata": {},
     "output_type": "execute_result"
    }
   ],
   "source": [
    "df = pd.read_csv('dummy_users.csv')\n",
    "df.head()"
   ]
  },
  {
   "cell_type": "code",
   "execution_count": 6,
   "metadata": {},
   "outputs": [],
   "source": [
    "df['id_user'] = df['id_user'].apply(lambda x: np.NaN)"
   ]
  },
  {
   "cell_type": "code",
   "execution_count": 16,
   "metadata": {},
   "outputs": [],
   "source": [
    "df['phone'] = df['phone'].apply(lambda x: int(f'5411{\"\".join([str(random.choice(range(0, 10))) for i in range(9)])}'))"
   ]
  },
  {
   "cell_type": "code",
   "execution_count": 17,
   "metadata": {},
   "outputs": [],
   "source": [
    "df.to_csv('version2.csv', index=False)"
   ]
  }
 ],
 "metadata": {
  "kernelspec": {
   "display_name": "Python 3",
   "language": "python",
   "name": "python3"
  },
  "language_info": {
   "codemirror_mode": {
    "name": "ipython",
    "version": 3
   },
   "file_extension": ".py",
   "mimetype": "text/x-python",
   "name": "python",
   "nbconvert_exporter": "python",
   "pygments_lexer": "ipython3",
   "version": "3.10.2"
  }
 },
 "nbformat": 4,
 "nbformat_minor": 2
}
