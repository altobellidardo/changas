{
 "cells": [
  {
   "cell_type": "code",
   "execution_count": 1,
   "metadata": {},
   "outputs": [],
   "source": [
    "import pandas as pd"
   ]
  },
  {
   "cell_type": "code",
   "execution_count": 4,
   "metadata": {},
   "outputs": [
    {
     "data": {
      "text/html": [
       "<div>\n",
       "<style scoped>\n",
       "    .dataframe tbody tr th:only-of-type {\n",
       "        vertical-align: middle;\n",
       "    }\n",
       "\n",
       "    .dataframe tbody tr th {\n",
       "        vertical-align: top;\n",
       "    }\n",
       "\n",
       "    .dataframe thead th {\n",
       "        text-align: right;\n",
       "    }\n",
       "</style>\n",
       "<table border=\"1\" class=\"dataframe\">\n",
       "  <thead>\n",
       "    <tr style=\"text-align: right;\">\n",
       "      <th></th>\n",
       "      <th>id_user</th>\n",
       "      <th>name</th>\n",
       "      <th>surname</th>\n",
       "      <th>mail</th>\n",
       "      <th>phone</th>\n",
       "      <th>location</th>\n",
       "      <th>dni</th>\n",
       "      <th>birth</th>\n",
       "      <th>picture</th>\n",
       "    </tr>\n",
       "  </thead>\n",
       "  <tbody>\n",
       "    <tr>\n",
       "      <th>0</th>\n",
       "      <td>86c1c38e-8f08-4622-a3e8-01ab9be3043a</td>\n",
       "      <td>Maximo</td>\n",
       "      <td>Rulli</td>\n",
       "      <td>NaN</td>\n",
       "      <td>NaN</td>\n",
       "      <td>Cardales, Buenos Aires, Argentina</td>\n",
       "      <td>46910726</td>\n",
       "      <td>2005-08-17</td>\n",
       "      <td>NaN</td>\n",
       "    </tr>\n",
       "    <tr>\n",
       "      <th>1</th>\n",
       "      <td>ef9c8453-4235-4fbb-9258-56634290470e</td>\n",
       "      <td>Dardo</td>\n",
       "      <td>Altobelli</td>\n",
       "      <td>altobellidardo@gmail.com</td>\n",
       "      <td>5.434896e+11</td>\n",
       "      <td>campana, bs as, arg</td>\n",
       "      <td>46812070</td>\n",
       "      <td>2005-11-11</td>\n",
       "      <td>NaN</td>\n",
       "    </tr>\n",
       "  </tbody>\n",
       "</table>\n",
       "</div>"
      ],
      "text/plain": [
       "                                id_user    name    surname  \\\n",
       "0  86c1c38e-8f08-4622-a3e8-01ab9be3043a  Maximo      Rulli   \n",
       "1  ef9c8453-4235-4fbb-9258-56634290470e   Dardo  Altobelli   \n",
       "\n",
       "                       mail         phone                           location  \\\n",
       "0                       NaN           NaN  Cardales, Buenos Aires, Argentina   \n",
       "1  altobellidardo@gmail.com  5.434896e+11                campana, bs as, arg   \n",
       "\n",
       "        dni       birth  picture  \n",
       "0  46910726  2005-08-17      NaN  \n",
       "1  46812070  2005-11-11      NaN  "
      ]
     },
     "execution_count": 4,
     "metadata": {},
     "output_type": "execute_result"
    }
   ],
   "source": [
    "df = pd.read_csv('users_real_rows.csv')\n",
    "df"
   ]
  },
  {
   "cell_type": "code",
   "execution_count": 9,
   "metadata": {},
   "outputs": [],
   "source": [
    "df.drop([0,1], axis=0)\n",
    "df.to_csv('users_dummy.csv')"
   ]
  },
  {
   "cell_type": "code",
   "execution_count": null,
   "metadata": {},
   "outputs": [],
   "source": []
  }
 ],
 "metadata": {
  "kernelspec": {
   "display_name": "Python 3",
   "language": "python",
   "name": "python3"
  },
  "language_info": {
   "codemirror_mode": {
    "name": "ipython",
    "version": 3
   },
   "file_extension": ".py",
   "mimetype": "text/x-python",
   "name": "python",
   "nbconvert_exporter": "python",
   "pygments_lexer": "ipython3",
   "version": "3.10.6"
  }
 },
 "nbformat": 4,
 "nbformat_minor": 2
}
