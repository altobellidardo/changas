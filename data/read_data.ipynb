{
 "cells": [
  {
   "cell_type": "code",
   "execution_count": 2,
   "metadata": {},
   "outputs": [],
   "source": [
    "import pandas as pd\n",
    "import numpy as np\n",
    "import random"
   ]
  },
  {
   "cell_type": "code",
   "execution_count": 4,
   "metadata": {},
   "outputs": [
    {
     "data": {
      "text/html": [
       "<div>\n",
       "<style scoped>\n",
       "    .dataframe tbody tr th:only-of-type {\n",
       "        vertical-align: middle;\n",
       "    }\n",
       "\n",
       "    .dataframe tbody tr th {\n",
       "        vertical-align: top;\n",
       "    }\n",
       "\n",
       "    .dataframe thead th {\n",
       "        text-align: right;\n",
       "    }\n",
       "</style>\n",
       "<table border=\"1\" class=\"dataframe\">\n",
       "  <thead>\n",
       "    <tr style=\"text-align: right;\">\n",
       "      <th></th>\n",
       "      <th>id_user</th>\n",
       "      <th>name</th>\n",
       "      <th>surname</th>\n",
       "      <th>email</th>\n",
       "      <th>phone</th>\n",
       "      <th>location</th>\n",
       "      <th>dni</th>\n",
       "      <th>birth</th>\n",
       "      <th>picture</th>\n",
       "    </tr>\n",
       "  </thead>\n",
       "  <tbody>\n",
       "    <tr>\n",
       "      <th>0</th>\n",
       "      <td>NaN</td>\n",
       "      <td>María</td>\n",
       "      <td>Rodríguez</td>\n",
       "      <td>mariarodriguez@gmail.com</td>\n",
       "      <td>5411786918188</td>\n",
       "      <td>San Isidro, Buenos Aires, Argentina</td>\n",
       "      <td>37326160</td>\n",
       "      <td>1995-08-20</td>\n",
       "      <td>NaN</td>\n",
       "    </tr>\n",
       "    <tr>\n",
       "      <th>1</th>\n",
       "      <td>NaN</td>\n",
       "      <td>Carlos</td>\n",
       "      <td>González</td>\n",
       "      <td>carlosgonzalez@gmail.com</td>\n",
       "      <td>5411261812992</td>\n",
       "      <td>Tigre, Buenos Aires, Argentina</td>\n",
       "      <td>22471163</td>\n",
       "      <td>1988-05-03</td>\n",
       "      <td>NaN</td>\n",
       "    </tr>\n",
       "    <tr>\n",
       "      <th>2</th>\n",
       "      <td>NaN</td>\n",
       "      <td>Ana</td>\n",
       "      <td>López</td>\n",
       "      <td>analopez@gmail.com</td>\n",
       "      <td>5411636734544</td>\n",
       "      <td>Pilar, Buenos Aires, Argentina</td>\n",
       "      <td>40047796</td>\n",
       "      <td>2000-02-15</td>\n",
       "      <td>NaN</td>\n",
       "    </tr>\n",
       "    <tr>\n",
       "      <th>3</th>\n",
       "      <td>NaN</td>\n",
       "      <td>Lucía</td>\n",
       "      <td>Martínez</td>\n",
       "      <td>luciamartinez@gmail.com</td>\n",
       "      <td>5411361189621</td>\n",
       "      <td>Escobar, Buenos Aires, Argentina</td>\n",
       "      <td>40208734</td>\n",
       "      <td>1990-11-25</td>\n",
       "      <td>NaN</td>\n",
       "    </tr>\n",
       "    <tr>\n",
       "      <th>4</th>\n",
       "      <td>NaN</td>\n",
       "      <td>Pedro</td>\n",
       "      <td>Fernández</td>\n",
       "      <td>pedrofernandez@gmail.com</td>\n",
       "      <td>5411233328760</td>\n",
       "      <td>San Fernando, Buenos Aires, Argentina</td>\n",
       "      <td>28158580</td>\n",
       "      <td>1992-09-10</td>\n",
       "      <td>NaN</td>\n",
       "    </tr>\n",
       "  </tbody>\n",
       "</table>\n",
       "</div>"
      ],
      "text/plain": [
       "   id_user    name    surname                     email          phone  \\\n",
       "0      NaN   María  Rodríguez  mariarodriguez@gmail.com  5411786918188   \n",
       "1      NaN  Carlos   González  carlosgonzalez@gmail.com  5411261812992   \n",
       "2      NaN     Ana      López        analopez@gmail.com  5411636734544   \n",
       "3      NaN   Lucía   Martínez   luciamartinez@gmail.com  5411361189621   \n",
       "4      NaN   Pedro  Fernández  pedrofernandez@gmail.com  5411233328760   \n",
       "\n",
       "                                location       dni       birth  picture  \n",
       "0    San Isidro, Buenos Aires, Argentina  37326160  1995-08-20      NaN  \n",
       "1         Tigre, Buenos Aires, Argentina  22471163  1988-05-03      NaN  \n",
       "2         Pilar, Buenos Aires, Argentina  40047796  2000-02-15      NaN  \n",
       "3       Escobar, Buenos Aires, Argentina  40208734  1990-11-25      NaN  \n",
       "4  San Fernando, Buenos Aires, Argentina  28158580  1992-09-10      NaN  "
      ]
     },
     "execution_count": 4,
     "metadata": {},
     "output_type": "execute_result"
    }
   ],
   "source": [
    "df = pd.read_csv('dummy_users.csv')\n",
    "df.head()"
   ]
  },
  {
   "cell_type": "code",
   "execution_count": 9,
   "metadata": {},
   "outputs": [],
   "source": [
    "df_users = pd.DataFrame({\n",
    "    'id_user': [np.NaN]*len(df),\n",
    "    'email' : df['mail'].apply(lambda x: x.replace('gmail.com', 'whatthefish.info')).to_list(),\n",
    "    'password' : ['changas']*len(df)\n",
    "})\n",
    "df_users.to_csv('dummy_users_accounts.csv', index=False)"
   ]
  },
  {
   "cell_type": "code",
   "execution_count": 6,
   "metadata": {},
   "outputs": [],
   "source": [
    "df['id_user'] = df['id_user'].apply(lambda x: np.NaN)"
   ]
  },
  {
   "cell_type": "code",
   "execution_count": 16,
   "metadata": {},
   "outputs": [],
   "source": [
    "df['phone'] = df['phone'].apply(lambda x: int(f'5411{\"\".join([str(random.choice(range(0, 10))) for i in range(9)])}'))"
   ]
  },
  {
   "cell_type": "code",
   "execution_count": 17,
   "metadata": {},
   "outputs": [],
   "source": [
    "df.to_csv('version2.csv', index=False)"
   ]
  },
  {
   "cell_type": "code",
   "execution_count": 14,
   "metadata": {},
   "outputs": [
    {
     "data": {
      "text/html": [
       "<div>\n",
       "<style scoped>\n",
       "    .dataframe tbody tr th:only-of-type {\n",
       "        vertical-align: middle;\n",
       "    }\n",
       "\n",
       "    .dataframe tbody tr th {\n",
       "        vertical-align: top;\n",
       "    }\n",
       "\n",
       "    .dataframe thead th {\n",
       "        text-align: right;\n",
       "    }\n",
       "</style>\n",
       "<table border=\"1\" class=\"dataframe\">\n",
       "  <thead>\n",
       "    <tr style=\"text-align: right;\">\n",
       "      <th></th>\n",
       "      <th>id_user</th>\n",
       "      <th>email</th>\n",
       "      <th>password</th>\n",
       "    </tr>\n",
       "  </thead>\n",
       "  <tbody>\n",
       "    <tr>\n",
       "      <th>0</th>\n",
       "      <td>05f97d15-dd6d-4bc9-8463-7ad8001da89b</td>\n",
       "      <td>mariarodriguez@whatthefish.info</td>\n",
       "      <td>changas</td>\n",
       "    </tr>\n",
       "    <tr>\n",
       "      <th>1</th>\n",
       "      <td>27749d94-7f19-448f-bf23-0c1108d9a232</td>\n",
       "      <td>carlosgonzalez@whatthefish.info</td>\n",
       "      <td>changas</td>\n",
       "    </tr>\n",
       "    <tr>\n",
       "      <th>2</th>\n",
       "      <td>18982ad1-6bf8-4e72-8504-fd2eca42a598</td>\n",
       "      <td>analopez@whatthefish.info</td>\n",
       "      <td>changas</td>\n",
       "    </tr>\n",
       "    <tr>\n",
       "      <th>3</th>\n",
       "      <td>5b1205a1-0d14-4df4-a1e5-6cf137e8770e</td>\n",
       "      <td>luciamartinez@whatthefish.info</td>\n",
       "      <td>changas</td>\n",
       "    </tr>\n",
       "    <tr>\n",
       "      <th>4</th>\n",
       "      <td>81b2e3fd-51f4-4b57-8217-9760f71d7cf1</td>\n",
       "      <td>pedrofernandez@whatthefish.info</td>\n",
       "      <td>changas</td>\n",
       "    </tr>\n",
       "  </tbody>\n",
       "</table>\n",
       "</div>"
      ],
      "text/plain": [
       "                                id_user                            email  \\\n",
       "0  05f97d15-dd6d-4bc9-8463-7ad8001da89b  mariarodriguez@whatthefish.info   \n",
       "1  27749d94-7f19-448f-bf23-0c1108d9a232  carlosgonzalez@whatthefish.info   \n",
       "2  18982ad1-6bf8-4e72-8504-fd2eca42a598        analopez@whatthefish.info   \n",
       "3  5b1205a1-0d14-4df4-a1e5-6cf137e8770e   luciamartinez@whatthefish.info   \n",
       "4  81b2e3fd-51f4-4b57-8217-9760f71d7cf1  pedrofernandez@whatthefish.info   \n",
       "\n",
       "  password  \n",
       "0  changas  \n",
       "1  changas  \n",
       "2  changas  \n",
       "3  changas  \n",
       "4  changas  "
      ]
     },
     "execution_count": 14,
     "metadata": {},
     "output_type": "execute_result"
    }
   ],
   "source": [
    "dn = pd.read_csv('users_rows.csv')\n",
    "dn = dn.drop([0,1,2], axis=0).reset_index().drop('index', axis=1)\n",
    "dn.head()"
   ]
  },
  {
   "cell_type": "code",
   "execution_count": 15,
   "metadata": {},
   "outputs": [],
   "source": [
    "df['id_user'] = dn['id_user']\n",
    "df['email'] = dn['email']"
   ]
  },
  {
   "cell_type": "code",
   "execution_count": 16,
   "metadata": {},
   "outputs": [],
   "source": [
    "df.to_csv('dummy_users_data.csv', index=False)"
   ]
  }
 ],
 "metadata": {
  "kernelspec": {
   "display_name": "Python 3",
   "language": "python",
   "name": "python3"
  },
  "language_info": {
   "codemirror_mode": {
    "name": "ipython",
    "version": 3
   },
   "file_extension": ".py",
   "mimetype": "text/x-python",
   "name": "python",
   "nbconvert_exporter": "python",
   "pygments_lexer": "ipython3",
   "version": "3.10.2"
  }
 },
 "nbformat": 4,
 "nbformat_minor": 2
}
